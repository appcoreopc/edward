{
 "cells": [
  {
   "cell_type": "markdown",
   "metadata": {},
   "source": [
    "## Black Box Variational Inference with Edward"
   ]
  },
  {
   "cell_type": "markdown",
   "metadata": {},
   "source": [
    "In this tutorial we will demonstrate how to apply black box variational inference (BBVI) to learn the parameters of a given model. Black box variational inference is a Bayesian inference method that has been introduced by [Paisley et al.](http://www.columbia.edu/~jwp2128/Papers/PaisleyBleiJordan2012b.pdf) and later by [Ranganath et al.](http://www.cs.columbia.edu/~blei/papers/RanganathGerrishBlei2014.pdf). Please read those references for further detail. \n",
    "\n",
    "Let's say you have some data and you have some model in mind that you want to fit to it. The model has some parameters/latent variables that you need to learn. You can use the Bayesian paradigm to do so. Doing Bayesian inference boils down to computing the posterior distribution of the latent variables conditional on the observed data. \n",
    "\n",
    "Let $x$ denote the observed data and $z$ the vector of latent variables - the unknowns of your model you want to learn. Adopting the Bayesian framework, you put a prior on $z$ and aim to learn the posterior distribution\n",
    "\\begin{equation*}\n",
    "p(z|x) = \\frac{p(x, z)}{p(x)} = \\frac{p(x|z)p(z)}{p(x)} \n",
    "\\end{equation*}\n",
    "$p(x|z)$ is called the likelihood.\n",
    "$p(z)$ is the prior and\n",
    "$p(x)$ is the marginal likelihood or the model evidence.\n",
    "\n",
    "In most machine learning applications the posterior is intractable because $p(x)$ is unknown and cannot be computed in closed-form. One solution is to approximate it. \n",
    "\n",
    "Existing approximation schemes include Monte Carlo methods, Laplace approximation, variational inference and expectation propagation. Most of these inference algorithms are implemented in Edward. This tutorial focuses on BBVI which is a variant of variational inference.\n",
    "\n",
    "Variational inference approximates a posterior distribution by following this procedure:\n",
    "\n",
    "1 - since we do not know which family of distribution our posterior belongs to, we choose one that is plausible and tractable and we call it $q$. This distribution $q$ has some parameters as all distributions do. These are called the variational parameters. For example for a Gaussian these are the mean and the variance. For a beta distribution these are the shape and scale parameters etc. Call these variational parameters $\\lambda$\n",
    "\n",
    "2 - choose the variational parameters $\\lambda$ such that $q$ is close to our posterior. What does it mean for $q$ to be close to the posterior $p$? It means the Kullback-Leibler divergence $KL(q || p)$ between $q$ and $p$ is minimized.\n",
    "\n",
    "Variational inference thus translates the approximate posterior inference problem into an optimization problem by positing a family of distributions governed by a set of parameters $\\lambda$ and seeking the setting of these parameters that will minimize the KL divergence. \n",
    "The optimization problem is:\n",
    "\\begin{equation*}\n",
    "q^*(z|\\lambda^*) =  \\underset{q(z|\\lambda)}{argmin}\n",
    "\\operatorname{KL}(q(z|\\lambda) || p(z | x))\n",
    "\\end{equation*}\n",
    "where\n",
    "\\begin{equation*}\n",
    "\\operatorname{KL}(q(z|\\lambda) || p(z | x)) = \\mathbb{E}_q\\log\\Big(\\frac{q(z | \\lambda)}{p(z | x)}\\Big)\n",
    "\\end{equation*}\n",
    "\n",
    "You might notice that this KL objective function is still intractable but fortunately:\n",
    "\\begin{equation*}\n",
    "\\log(p(x)) = KL(q(z|\\lambda) || p(z | x)) + \\mathbb{E}_q\\log\\Big(\\frac{p(x, z)}{q(z | \\lambda)}\\Big)\n",
    "\\end{equation*}\n",
    "In the Bayesian setting $\\log(p(x))$ is fixed and so minimizing the\n",
    "KL divergence is equivalent to maximizing the quantity known as the Evidence Lower Bound (ELBO)\n",
    "\\begin{equation*}\n",
    "ELBO(\\lambda) = \\mathbb{E}_q\\log\\Big(\\frac{p(x, z)}{q(z | \\lambda)}\\Big)\n",
    "\\end{equation*}\n",
    "\n",
    "By positivity of the KL divergence, the ELBO is a tractable lower bound of the marginal likelihood of the data and is optimized over the variational parameters. Once optimization is done $q^*(z|\\lambda^*)$ is used as a surrogate for the posterior $p(z | x)$.\n",
    "\n",
    "To get some intuition about the ELBO notice that it can be rewritten as:\n",
    "\\begin{align*}\n",
    "ELBO(\\lambda) \n",
    "&= \\mathbb{E}_q[\\log p(x|z)]  + \\mathbb{E}_q[\\log p(z)] - \\mathbb{E}_q[\\log q(z)] \\\\ \n",
    "&= \\mathbb{E}_q\\log p(x|z)  - KL(q(z) || p(z))\n",
    "\\end{align*}\n",
    "\n",
    "this tells us that the optimal variational distribution $q$ that maximizes the ELBO will place mass such that the data is very likely while agreeing with the prior distribution. The second term acts as a regularizer. This is the usual trade-off between data and prior information in the Bayesian paradigm.\n",
    "\n",
    "BBVI is an algorithm for maximizing the ELBO. It does so by following not the gradient of the ELBO as you would do in a trivial gradient ascent algorithm but by following Monte Carlo estimates of the gradient of the ELBO. \n",
    "\n",
    "There are different types of gradients each of which can be used in BBVI. The score gradient is trivially:\n",
    "$$\\mathbb{E}_q\\Big[\\log\\Big(\\frac{p(x,z)}{q(z|\\lambda)}\\Big)\\bigtriangledown_{\\lambda}\\log q(z|\\lambda) \\Big]$$\n",
    "\n",
    "This score gradient can be refactored into a reparameterization gradient if the variational distribution $q$ can be reparameterized. For example when $q$ is $N(z| \\mu, \\Sigma)$ then you can rewrite any sample $z$ from $q$ as $z = \\mu + \\Sigma^{1/2}\\epsilon$ where $\\epsilon \\sim N(0, I)$. \n",
    "\n",
    "The reparametrization gradient when $z = g(\\lambda, \\epsilon)$ and $\\epsilon \\sim p(\\epsilon)$ is:\n",
    "$$\\mathbb{E}_{p(\\epsilon)}\\Big[\\bigtriangledown_{\\lambda}\\log\\Big(\\frac{p(x, g(\\lambda, \\epsilon))}{q(g(\\lambda, \\epsilon) | \\lambda)} \\Big)\\Big]$$\n",
    "\n",
    "The score and reparameterization gradients are implemented in Edward along with other gradients. The default is the reparameterization gradient since it tends to have lower variance than the score gradient and since most of the distributions used in practice are reparameterizable. "
   ]
  },
  {
   "cell_type": "markdown",
   "metadata": {},
   "source": [
    "We illustrate BBVI using a simple logistic regression example. Our setting is as follows:\n",
    "\n",
    "We are given a dataset $\\{x_i, y_i\\}$ for $i=1, ... , N$ where each $x_i$ lives for example in a two-dimensional space and each $y_i$ is in $\\{0, 1\\}$. You can think of each $(x_i, y_i)$ pair as an individual whose features are $x_i$ and whose label is $y_i$. \n",
    "\n",
    "Let's generate and visualize some toy data that we can illustrate our example with. Unfortunately Edward does not have yet data generators. This will be in subsequent versions. However we can generate data very easily as follows:"
   ]
  },
  {
   "cell_type": "code",
   "execution_count": 165,
   "metadata": {
    "collapsed": false
   },
   "outputs": [],
   "source": [
    "import numpy as np\n",
    "np.random.seed(0)\n",
    "N = 100\n",
    "x1 = np.random.normal(loc=[-2, 5], scale=[2, 3], size=(N, 2)) #class 1\n",
    "x2 = np.random.normal(loc=[2, -3], scale=[1, 2], size=(N, 2)) #class 2\n",
    "x = np.vstack((x1, x2))\n",
    "y1 = np.zeros(N)\n",
    "y2 = np.ones(N)\n",
    "y = np.hstack((y1, y2))"
   ]
  },
  {
   "cell_type": "markdown",
   "metadata": {},
   "source": [
    "where we set the seed to 0 for reproducibility. "
   ]
  },
  {
   "cell_type": "code",
   "execution_count": 166,
   "metadata": {
    "collapsed": false
   },
   "outputs": [
    {
     "data": {
      "image/png": "[encoded data removed]",
      "text/plain": [
       "<matplotlib.figure.Figure at 0x115254d10>"
      ]
     },
     "metadata": {},
     "output_type": "display_data"
    }
   ],
   "source": [
    "import matplotlib.pyplot as plt\n",
    "%matplotlib inline\n",
    "plt.scatter(x[:,0], x[:,1], s=50, c=y, cmap=plt.cm.Spectral)\n",
    "plt.show()"
   ]
  },
  {
   "cell_type": "markdown",
   "metadata": {},
   "source": [
    "The data we generated has two classes: red and blue. You can think of the red dots as sick patients and the blue dots as healthy patients. The horizontal and vertical coordinates can be thought of as some risk factors for some disease. The data is linearly separable. We can draw a straight line to separate the sick from the healthy patients. Logistic regression seems to be a good classifier for this data. \n",
    "\n",
    "Our goal is to train a classifier that will predict whether an individual is sick or healthy given their risk factors.\n",
    "\n",
    "There are three things we need to provide to apply BBVI. We need to provide the likelihood, the prior and the variational distribution. The likelihood and the prior define the model and this is done in Edward by specifying a class with a method called log_prob that defines the log joint likelihood:"
   ]
  },
  {
   "cell_type": "code",
   "execution_count": 167,
   "metadata": {
    "collapsed": false
   },
   "outputs": [],
   "source": [
    "import edward as ed\n",
    "import tensorflow as tf\n",
    "\n",
    "class LogisticRegression:\n",
    "    \"\"\"\n",
    "    Hierarchical logistic regression for outputs y on inputs x.\n",
    "    p(y | z ; x) = Bernoulli(y | \\sigmoid(x*z))\n",
    "    p(z) = Normal(z | 0, prior_variance)\n",
    "    \n",
    "    where z are weights and prior_variance is known.\n",
    "    \"\"\"\n",
    "    def __init__(self, weight_dim, N, inv_link=tf.sigmoid, prior_variance=0.01):\n",
    "        \"\"\"\n",
    "        Initializes the parameters of the model\n",
    "        weight_dim: \n",
    "            the dimension of the feature vector for each individual\n",
    "            it is 2 in our example\n",
    "        \"\"\"\n",
    "        self.weight_dim = weight_dim\n",
    "        self.inv_link = inv_link\n",
    "        self.N = N\n",
    "        self.prior_variance = prior_variance\n",
    "        self.num_vars = (self.weight_dim[0])* (self.weight_dim[1]+1)\n",
    "    \n",
    "    def mapping(self, x, z):\n",
    "        \"\"\"\n",
    "        Inverse link function on linear transformation,\n",
    "        sigmoid(W*x + b)\n",
    "        \"\"\"\n",
    "        n, D = self.weight_dim[0], self.weight_dim[1]\n",
    "        W = tf.reshape(z[:D*n], [D, n])\n",
    "        b = tf.reshape(z[D*n:], [1, n])\n",
    "        x = self.reshape(x, shape=(self.N, D))\n",
    "        h = self.inv_link((tf.matmul(x, W) + b))\n",
    "        h = tf.squeeze(h) \n",
    "        return h\n",
    "\n",
    "    def log_prob(self, xs, zs):\n",
    "        \"\"\"Returns a vector [log p(xs, zs[1,:]), ..., log p(xs, zs[S,:])].\n",
    "           The labels must be in the first column\"\"\"\n",
    "        y = xs[:, 0]\n",
    "        x = xs[:, 1:]\n",
    "        log_lik = []\n",
    "        for z in tf.unpack(zs):\n",
    "            p = self.mapping(x, z)\n",
    "            log_lik += [bernoulli.logpmf(y, p)]\n",
    "\n",
    "        log_lik = tf.pack(log_lik)\n",
    "        log_lik = tf.reduce_sum(log_lik, 1)\n",
    "        log_prior = -0.5*tf.log(2*np.pi) - 0.5 * tf.log(self.prior_variance) -\\\n",
    "                    (0.5 / self.prior_variance) * tf.reduce_sum(zs*zs, 1)\n",
    "\n",
    "        return log_lik + log_prior\n",
    "    \n",
    "model = LogisticRegression(weight_dim=[1,2], N=200)"
   ]
  },
  {
   "cell_type": "markdown",
   "metadata": {},
   "source": [
    "Once the model is defined, we need to specify the variational distribution. In Edward this is done by instantiating a Variational object and then adding a distribution layer to it:"
   ]
  },
  {
   "cell_type": "code",
   "execution_count": 168,
   "metadata": {
    "collapsed": false
   },
   "outputs": [],
   "source": [
    "from edward.models import Variational, Normal\n",
    "\n",
    "variational = Variational()\n",
    "variational.add(Normal(model.num_vars))"
   ]
  },
  {
   "cell_type": "markdown",
   "metadata": {},
   "source": [
    "One last thing to take care of is that we need to get the data into a Data object for Edward to use. We do so as follow:"
   ]
  },
  {
   "cell_type": "code",
   "execution_count": 169,
   "metadata": {
    "collapsed": false
   },
   "outputs": [],
   "source": [
    "raw_data = np.hstack((y.reshape(2 * N, 1), x))\n",
    "data = ed.Data(tf.constant(raw_data, dtype=tf.float32))"
   ]
  },
  {
   "cell_type": "markdown",
   "metadata": {},
   "source": [
    "We have all the ingredients necessary to run the BBVI algorithm: we have the data, the model and the variational distribution. To run BBVI we instantiate an MFVI object:"
   ]
  },
  {
   "cell_type": "code",
   "execution_count": 170,
   "metadata": {
    "collapsed": true
   },
   "outputs": [],
   "source": [
    "inference = ed.MFVI(model, variational, data)"
   ]
  },
  {
   "cell_type": "markdown",
   "metadata": {},
   "source": [
    "From here on you have two options. You can either just do \n",
    "inference.run() to get the final values of the optimal latent variables or you can launch a new session and get a handle on the detailed results as follows:"
   ]
  },
  {
   "cell_type": "code",
   "execution_count": null,
   "metadata": {
    "collapsed": false
   },
   "outputs": [],
   "source": [
    "inference.initialize(n_print=10)\n",
    "sess = ed.get_session()\n",
    "elbo = []\n",
    "for t in range(1000):\n",
    "    loss = inference.update()\n",
    "    elbo.append(loss)\n",
    "    variational.print_params()\n",
    "plt.plot(elbo)"
   ]
  }
 ],
 "metadata": {
  "kernelspec": {
   "display_name": "Python 2",
   "language": "python",
   "name": "python2"
  },
  "language_info": {
   "codemirror_mode": {
    "name": "ipython",
    "version": 2
   },
   "file_extension": ".py",
   "mimetype": "text/x-python",
   "name": "python",
   "nbconvert_exporter": "python",
   "pygments_lexer": "ipython2",
   "version": "2.7.11"
  }
 },
 "nbformat": 4,
 "nbformat_minor": 0
}
